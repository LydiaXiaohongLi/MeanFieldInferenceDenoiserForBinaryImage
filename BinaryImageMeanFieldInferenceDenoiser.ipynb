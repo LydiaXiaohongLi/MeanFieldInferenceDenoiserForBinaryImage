{
 "cells": [
  {
   "cell_type": "code",
   "execution_count": 1,
   "metadata": {},
   "outputs": [
    {
     "name": "stderr",
     "output_type": "stream",
     "text": [
      "C:\\Users\\rayso\\AppData\\Local\\conda\\conda\\envs\\tensorflow_env\\lib\\site-packages\\h5py\\__init__.py:72: UserWarning: h5py is running against HDF5 1.10.2 when it was built against 1.10.3, this may cause problems\n",
      "  '{0}.{1}.{2}'.format(*version.hdf5_built_version_tuple)\n"
     ]
    }
   ],
   "source": [
    "from tensorflow.examples.tutorials.mnist import input_data\n",
    "import numpy as np\n",
    "import matplotlib.pyplot as plt"
   ]
  },
  {
   "cell_type": "code",
   "execution_count": 3,
   "metadata": {},
   "outputs": [
    {
     "name": "stdout",
     "output_type": "stream",
     "text": [
      "Extracting data\\train-images-idx3-ubyte.gz\n",
      "Extracting data\\train-labels-idx1-ubyte.gz\n",
      "Extracting data\\t10k-images-idx3-ubyte.gz\n",
      "Extracting data\\t10k-labels-idx1-ubyte.gz\n"
     ]
    }
   ],
   "source": [
    "mnist = input_data.read_data_sets('data')\n",
    "imgs_raw, label = mnist.train.next_batch(500)\n",
    "imgs_bin = np.where(imgs_raw < 0.5, -1, 1)"
   ]
  },
  {
   "cell_type": "code",
   "execution_count": 4,
   "metadata": {},
   "outputs": [],
   "source": [
    "def get_square_neighbour_dict(size):\n",
    "    dict = {}\n",
    "    for i in range(size):\n",
    "        for j in range(size):\n",
    "            if i == 0 and j == 0:\n",
    "                dict[i*size+j] = {i*size+j+1, i*size+j+size}\n",
    "            elif i == 0 and j == size-1:\n",
    "                dict[i*size+j] = {i*size+j-1, i*size+j+size}\n",
    "            elif i == 0:\n",
    "                dict[i*size+j] = {i*size+j-1, i*size+j+1, i*size+j+size}\n",
    "            elif i == size-1 and j == 0:\n",
    "                dict[i*size+j] = {i*size+j+1, i*size+j-size}\n",
    "            elif i == size-1 and j == size-1:\n",
    "                dict[i*size+j] = {i*size+j-1, i*size+j-size}\n",
    "            elif i == size-1:\n",
    "                dict[i*size+j] = {i*size+j-1, i*size+j+1, i*size+j-size}  \n",
    "            elif j == 0:\n",
    "                dict[i*size+j] = {i*size+j+1, i*size+j-size, i*size+j+size}\n",
    "            elif j == size-1:\n",
    "                dict[i*size+j] = {i*size+j-1, i*size+j-size, i*size+j+size} \n",
    "            else:\n",
    "                dict[i*size+j] = {i*size+j-1, i*size+j+1, i*size+j-size, i*size+j+size}\n",
    "    return dict\n",
    "    "
   ]
  },
  {
   "cell_type": "code",
   "execution_count": 5,
   "metadata": {},
   "outputs": [],
   "source": [
    "imgs_noise = np.where(np.random.rand(500,784)<0.02, -imgs_bin, imgs_bin)\n",
    "nbr_dict = get_square_neighbour_dict(28)"
   ]
  },
  {
   "cell_type": "code",
   "execution_count": 12,
   "metadata": {},
   "outputs": [],
   "source": [
    "class BinaryImageMeanFieldInferenceDenoiser():\n",
    "    def __init__(self, nbr_dict, theta_nbr, theta_noisyData, max_iter = 10):\n",
    "        self.nbr_dict = nbr_dict\n",
    "        self.theta_nbr = theta_nbr\n",
    "        self.theta_noisyData = theta_noisyData\n",
    "        self.max_iter = max_iter\n",
    "    \n",
    "    def denoise(self, img_batch):\n",
    "        # Input img is binary image, with -1 and 1 value\n",
    "        # TODO: 1. add check if input img is binarized to -1, 1 value, if not binarize img to -1, 1 \n",
    "        # Input noisy img_batch of shape: batch_size * img_size (linearized, i.e. img_size = width * height)\n",
    "        # TODO: 2. modify to accept different cases: single image without batch dimention; img not linearized etc\n",
    "        batch_size = img_batch.shape[0]\n",
    "        img_size = img_batch.shape[1]\n",
    "        \n",
    "        probs = np.ones((batch_size,img_size))*0.5\n",
    "        \n",
    "        # TODO: 3. below ways of denoising uses latest neightbour prob to infer the current prob. \n",
    "        # We could vectorize by comprimising not to use latest neightbour prob by applying a kinda mask layer that aggregates neighbour prob values\n",
    "        # In this way, we could have faster iterations, but might require more iteration. Overall, performance should be faster\n",
    "        for n_iter in range(self.max_iter):\n",
    "            for i in range(img_size):\n",
    "                probs[:,i] = np.exp(np.sum((np.array([probs[:,j] for j in self.nbr_dict[i]])*2-1)*self.theta_nbr, axis=0)+img_batch[:,i]*self.theta_noisyData)/(\n",
    "                    np.exp(-np.sum((np.array([probs[:,j] for j in self.nbr_dict[i]])*2-1)*self.theta_nbr, axis=0)-img_batch[:,i]*self.theta_noisyData)+\n",
    "                    np.exp(np.sum((np.array([probs[:,j] for j in self.nbr_dict[i]])*2-1)*self.theta_nbr, axis=0)+img_batch[:,i]*self.theta_noisyData))\n",
    "        \n",
    "        # TODO: update return data to align with TODO.1 and TODO.2 \n",
    "        return np.where(probs<0.5,-1,1)         \n",
    "        "
   ]
  },
  {
   "cell_type": "code",
   "execution_count": 13,
   "metadata": {},
   "outputs": [],
   "source": [
    "denoiser = BinaryImageMeanFieldInferenceDenoiser(nbr_dict=nbr_dict, theta_nbr=0.2, theta_noisyData=0.2, max_iter = 10)\n",
    "imgs_denoise = denoiser.denoise(imgs_noise)"
   ]
  },
  {
   "cell_type": "code",
   "execution_count": 14,
   "metadata": {},
   "outputs": [
    {
     "data": {
      "image/png": "[encoded data removed]",
      "text/plain": [
       "<Figure size 432x288 with 1 Axes>"
      ]
     },
     "metadata": {
      "needs_background": "light"
     },
     "output_type": "display_data"
    },
    {
     "name": "stdout",
     "output_type": "stream",
     "text": [
      "0.9770408163265306\n"
     ]
    },
    {
     "data": {
      "image/png": "[encoded data removed]",
      "text/plain": [
       "<Figure size 432x288 with 1 Axes>"
      ]
     },
     "metadata": {
      "needs_background": "light"
     },
     "output_type": "display_data"
    },
    {
     "name": "stdout",
     "output_type": "stream",
     "text": [
      "0.9948979591836735\n"
     ]
    },
    {
     "data": {
      "image/png": "[encoded data removed]",
      "text/plain": [
       "<Figure size 432x288 with 1 Axes>"
      ]
     },
     "metadata": {
      "needs_background": "light"
     },
     "output_type": "display_data"
    }
   ],
   "source": [
    "plt.imshow((imgs_bin[100].reshape(28,28)+1)/2)\n",
    "plt.show()\n",
    "print(np.mean(imgs_noise[100]==imgs_bin[100]))\n",
    "plt.imshow((imgs_noise[100].reshape(28,28)+1)/2)\n",
    "plt.show()\n",
    "print(np.mean(imgs_denoise[100]==imgs_bin[100]))\n",
    "plt.imshow((imgs_denoise[100].reshape(28,28)+1)/2)\n",
    "plt.show()"
   ]
  },
  {
   "cell_type": "code",
   "execution_count": null,
   "metadata": {},
   "outputs": [],
   "source": []
  }
 ],
 "metadata": {
  "kernelspec": {
   "display_name": "Python 3",
   "language": "python",
   "name": "python3"
  },
  "language_info": {
   "codemirror_mode": {
    "name": "ipython",
    "version": 3
   },
   "file_extension": ".py",
   "mimetype": "text/x-python",
   "name": "python",
   "nbconvert_exporter": "python",
   "pygments_lexer": "ipython3",
   "version": "3.7.1"
  }
 },
 "nbformat": 4,
 "nbformat_minor": 2
}
